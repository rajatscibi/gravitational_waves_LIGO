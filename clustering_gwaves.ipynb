{
 "cells": [
  {
   "cell_type": "code",
   "execution_count": 1,
   "id": "de50526f",
   "metadata": {},
   "outputs": [],
   "source": [
    "import pandas\n",
    "\n",
    "waves = pandas.read_csv('gwaves.csv')"
   ]
  },
  {
   "cell_type": "code",
   "execution_count": 2,
   "id": "ff17ba7d",
   "metadata": {},
   "outputs": [
    {
     "data": {
      "text/html": [
       "<div>\n",
       "<style scoped>\n",
       "    .dataframe tbody tr th:only-of-type {\n",
       "        vertical-align: middle;\n",
       "    }\n",
       "\n",
       "    .dataframe tbody tr th {\n",
       "        vertical-align: top;\n",
       "    }\n",
       "\n",
       "    .dataframe thead th {\n",
       "        text-align: right;\n",
       "    }\n",
       "</style>\n",
       "<table border=\"1\" class=\"dataframe\">\n",
       "  <thead>\n",
       "    <tr style=\"text-align: right;\">\n",
       "      <th></th>\n",
       "      <th>commonName</th>\n",
       "      <th>catalog.shortName</th>\n",
       "      <th>GPS</th>\n",
       "      <th>mass_1_source</th>\n",
       "      <th>mass_1_source_lower</th>\n",
       "      <th>mass_1_source_upper</th>\n",
       "      <th>mass_2_source</th>\n",
       "      <th>mass_2_source_lower</th>\n",
       "      <th>mass_2_source_upper</th>\n",
       "      <th>network_matched_filter_snr</th>\n",
       "      <th>...</th>\n",
       "      <th>redshift_upper</th>\n",
       "      <th>far</th>\n",
       "      <th>far_lower</th>\n",
       "      <th>far_upper</th>\n",
       "      <th>p_astro</th>\n",
       "      <th>p_astro_lower</th>\n",
       "      <th>p_astro_upper</th>\n",
       "      <th>final_mass_source</th>\n",
       "      <th>final_mass_source_lower</th>\n",
       "      <th>final_mass_source_upper</th>\n",
       "    </tr>\n",
       "  </thead>\n",
       "  <tbody>\n",
       "    <tr>\n",
       "      <th>0</th>\n",
       "      <td>GW150914</td>\n",
       "      <td>GWTC-1-confident</td>\n",
       "      <td>1126259462</td>\n",
       "      <td>35.6</td>\n",
       "      <td>-3.1</td>\n",
       "      <td>4.7</td>\n",
       "      <td>30.6</td>\n",
       "      <td>-4.4</td>\n",
       "      <td>3.0</td>\n",
       "      <td>26.0</td>\n",
       "      <td>...</td>\n",
       "      <td>0.03</td>\n",
       "      <td>1.000000e-07</td>\n",
       "      <td>NaN</td>\n",
       "      <td>NaN</td>\n",
       "      <td>1.0</td>\n",
       "      <td>NaN</td>\n",
       "      <td>NaN</td>\n",
       "      <td>63.1</td>\n",
       "      <td>-3.0</td>\n",
       "      <td>3.4</td>\n",
       "    </tr>\n",
       "    <tr>\n",
       "      <th>1</th>\n",
       "      <td>GW151012</td>\n",
       "      <td>GWTC-1-confident</td>\n",
       "      <td>1128678900</td>\n",
       "      <td>23.2</td>\n",
       "      <td>-5.5</td>\n",
       "      <td>14.9</td>\n",
       "      <td>13.6</td>\n",
       "      <td>-4.8</td>\n",
       "      <td>4.1</td>\n",
       "      <td>10.0</td>\n",
       "      <td>...</td>\n",
       "      <td>0.09</td>\n",
       "      <td>7.920000e-03</td>\n",
       "      <td>NaN</td>\n",
       "      <td>NaN</td>\n",
       "      <td>1.0</td>\n",
       "      <td>NaN</td>\n",
       "      <td>NaN</td>\n",
       "      <td>35.6</td>\n",
       "      <td>-3.8</td>\n",
       "      <td>10.8</td>\n",
       "    </tr>\n",
       "    <tr>\n",
       "      <th>2</th>\n",
       "      <td>GW151226</td>\n",
       "      <td>GWTC-1-confident</td>\n",
       "      <td>1135136351</td>\n",
       "      <td>13.7</td>\n",
       "      <td>-3.2</td>\n",
       "      <td>8.8</td>\n",
       "      <td>7.7</td>\n",
       "      <td>-2.5</td>\n",
       "      <td>2.2</td>\n",
       "      <td>13.1</td>\n",
       "      <td>...</td>\n",
       "      <td>0.04</td>\n",
       "      <td>1.000000e-07</td>\n",
       "      <td>NaN</td>\n",
       "      <td>NaN</td>\n",
       "      <td>1.0</td>\n",
       "      <td>NaN</td>\n",
       "      <td>NaN</td>\n",
       "      <td>20.5</td>\n",
       "      <td>-1.5</td>\n",
       "      <td>6.4</td>\n",
       "    </tr>\n",
       "    <tr>\n",
       "      <th>3</th>\n",
       "      <td>GW170104</td>\n",
       "      <td>GWTC-1-confident</td>\n",
       "      <td>1167559937</td>\n",
       "      <td>30.8</td>\n",
       "      <td>-5.6</td>\n",
       "      <td>7.3</td>\n",
       "      <td>20.0</td>\n",
       "      <td>-4.6</td>\n",
       "      <td>4.9</td>\n",
       "      <td>13.8</td>\n",
       "      <td>...</td>\n",
       "      <td>0.08</td>\n",
       "      <td>1.000000e-07</td>\n",
       "      <td>NaN</td>\n",
       "      <td>NaN</td>\n",
       "      <td>1.0</td>\n",
       "      <td>NaN</td>\n",
       "      <td>NaN</td>\n",
       "      <td>48.9</td>\n",
       "      <td>-4.0</td>\n",
       "      <td>5.1</td>\n",
       "    </tr>\n",
       "    <tr>\n",
       "      <th>4</th>\n",
       "      <td>GW170608</td>\n",
       "      <td>GWTC-1-confident</td>\n",
       "      <td>1180922495</td>\n",
       "      <td>11.0</td>\n",
       "      <td>-1.7</td>\n",
       "      <td>5.5</td>\n",
       "      <td>7.6</td>\n",
       "      <td>-2.2</td>\n",
       "      <td>1.4</td>\n",
       "      <td>15.4</td>\n",
       "      <td>...</td>\n",
       "      <td>0.02</td>\n",
       "      <td>1.000000e-07</td>\n",
       "      <td>NaN</td>\n",
       "      <td>NaN</td>\n",
       "      <td>1.0</td>\n",
       "      <td>NaN</td>\n",
       "      <td>NaN</td>\n",
       "      <td>17.8</td>\n",
       "      <td>-0.7</td>\n",
       "      <td>3.4</td>\n",
       "    </tr>\n",
       "  </tbody>\n",
       "</table>\n",
       "<p>5 rows × 39 columns</p>\n",
       "</div>"
      ],
      "text/plain": [
       "  commonName catalog.shortName         GPS  mass_1_source  \\\n",
       "0   GW150914  GWTC-1-confident  1126259462           35.6   \n",
       "1   GW151012  GWTC-1-confident  1128678900           23.2   \n",
       "2   GW151226  GWTC-1-confident  1135136351           13.7   \n",
       "3   GW170104  GWTC-1-confident  1167559937           30.8   \n",
       "4   GW170608  GWTC-1-confident  1180922495           11.0   \n",
       "\n",
       "   mass_1_source_lower  mass_1_source_upper  mass_2_source  \\\n",
       "0                 -3.1                  4.7           30.6   \n",
       "1                 -5.5                 14.9           13.6   \n",
       "2                 -3.2                  8.8            7.7   \n",
       "3                 -5.6                  7.3           20.0   \n",
       "4                 -1.7                  5.5            7.6   \n",
       "\n",
       "   mass_2_source_lower  mass_2_source_upper  network_matched_filter_snr  ...  \\\n",
       "0                 -4.4                  3.0                        26.0  ...   \n",
       "1                 -4.8                  4.1                        10.0  ...   \n",
       "2                 -2.5                  2.2                        13.1  ...   \n",
       "3                 -4.6                  4.9                        13.8  ...   \n",
       "4                 -2.2                  1.4                        15.4  ...   \n",
       "\n",
       "   redshift_upper           far  far_lower  far_upper  p_astro  p_astro_lower  \\\n",
       "0            0.03  1.000000e-07        NaN        NaN      1.0            NaN   \n",
       "1            0.09  7.920000e-03        NaN        NaN      1.0            NaN   \n",
       "2            0.04  1.000000e-07        NaN        NaN      1.0            NaN   \n",
       "3            0.08  1.000000e-07        NaN        NaN      1.0            NaN   \n",
       "4            0.02  1.000000e-07        NaN        NaN      1.0            NaN   \n",
       "\n",
       "   p_astro_upper  final_mass_source  final_mass_source_lower  \\\n",
       "0            NaN               63.1                     -3.0   \n",
       "1            NaN               35.6                     -3.8   \n",
       "2            NaN               20.5                     -1.5   \n",
       "3            NaN               48.9                     -4.0   \n",
       "4            NaN               17.8                     -0.7   \n",
       "\n",
       "   final_mass_source_upper  \n",
       "0                      3.4  \n",
       "1                     10.8  \n",
       "2                      6.4  \n",
       "3                      5.1  \n",
       "4                      3.4  \n",
       "\n",
       "[5 rows x 39 columns]"
      ]
     },
     "execution_count": 2,
     "metadata": {},
     "output_type": "execute_result"
    }
   ],
   "source": [
    "waves.head()"
   ]
  },
  {
   "cell_type": "code",
   "execution_count": 3,
   "id": "c571861f",
   "metadata": {},
   "outputs": [
    {
     "data": {
      "text/plain": [
       "Index(['commonName', 'catalog.shortName', 'GPS', 'mass_1_source',\n",
       "       'mass_1_source_lower', 'mass_1_source_upper', 'mass_2_source',\n",
       "       'mass_2_source_lower', 'mass_2_source_upper',\n",
       "       'network_matched_filter_snr', 'network_matched_filter_snr_lower',\n",
       "       'network_matched_filter_snr_upper', 'luminosity_distance',\n",
       "       'luminosity_distance_lower', 'luminosity_distance_upper', 'chi_eff',\n",
       "       'chi_eff_lower', 'chi_eff_upper', 'total_mass_source',\n",
       "       'total_mass_source_lower', 'total_mass_source_upper',\n",
       "       'chirp_mass_source', 'chirp_mass_source_lower',\n",
       "       'chirp_mass_source_upper', 'chirp_mass', 'chirp_mass_lower',\n",
       "       'chirp_mass_upper', 'redshift', 'redshift_lower', 'redshift_upper',\n",
       "       'far', 'far_lower', 'far_upper', 'p_astro', 'p_astro_lower',\n",
       "       'p_astro_upper', 'final_mass_source', 'final_mass_source_lower',\n",
       "       'final_mass_source_upper'],\n",
       "      dtype='object')"
      ]
     },
     "execution_count": 3,
     "metadata": {},
     "output_type": "execute_result"
    }
   ],
   "source": [
    "waves.columns"
   ]
  },
  {
   "cell_type": "code",
   "execution_count": 4,
   "id": "1b64c881",
   "metadata": {},
   "outputs": [],
   "source": [
    "from pycaret.clustering import *"
   ]
  },
  {
   "cell_type": "code",
   "execution_count": 5,
   "id": "bd0946d2",
   "metadata": {},
   "outputs": [
    {
     "data": {
      "text/html": [
       "<style type=\"text/css\">\n",
       "#T_2a170_row6_col1, #T_2a170_row13_col1, #T_2a170_row15_col1 {\n",
       "  background-color: lightgreen;\n",
       "}\n",
       "</style>\n",
       "<table id=\"T_2a170\">\n",
       "  <thead>\n",
       "    <tr>\n",
       "      <th class=\"blank level0\" >&nbsp;</th>\n",
       "      <th id=\"T_2a170_level0_col0\" class=\"col_heading level0 col0\" >Description</th>\n",
       "      <th id=\"T_2a170_level0_col1\" class=\"col_heading level0 col1\" >Value</th>\n",
       "    </tr>\n",
       "  </thead>\n",
       "  <tbody>\n",
       "    <tr>\n",
       "      <th id=\"T_2a170_level0_row0\" class=\"row_heading level0 row0\" >0</th>\n",
       "      <td id=\"T_2a170_row0_col0\" class=\"data row0 col0\" >Session id</td>\n",
       "      <td id=\"T_2a170_row0_col1\" class=\"data row0 col1\" >1926</td>\n",
       "    </tr>\n",
       "    <tr>\n",
       "      <th id=\"T_2a170_level0_row1\" class=\"row_heading level0 row1\" >1</th>\n",
       "      <td id=\"T_2a170_row1_col0\" class=\"data row1 col0\" >Original data shape</td>\n",
       "      <td id=\"T_2a170_row1_col1\" class=\"data row1 col1\" >(93, 39)</td>\n",
       "    </tr>\n",
       "    <tr>\n",
       "      <th id=\"T_2a170_level0_row2\" class=\"row_heading level0 row2\" >2</th>\n",
       "      <td id=\"T_2a170_row2_col0\" class=\"data row2 col0\" >Transformed data shape</td>\n",
       "      <td id=\"T_2a170_row2_col1\" class=\"data row2 col1\" >(93, 14)</td>\n",
       "    </tr>\n",
       "    <tr>\n",
       "      <th id=\"T_2a170_level0_row3\" class=\"row_heading level0 row3\" >3</th>\n",
       "      <td id=\"T_2a170_row3_col0\" class=\"data row3 col0\" >Numeric features</td>\n",
       "      <td id=\"T_2a170_row3_col1\" class=\"data row3 col1\" >37</td>\n",
       "    </tr>\n",
       "    <tr>\n",
       "      <th id=\"T_2a170_level0_row4\" class=\"row_heading level0 row4\" >4</th>\n",
       "      <td id=\"T_2a170_row4_col0\" class=\"data row4 col0\" >Categorical features</td>\n",
       "      <td id=\"T_2a170_row4_col1\" class=\"data row4 col1\" >2</td>\n",
       "    </tr>\n",
       "    <tr>\n",
       "      <th id=\"T_2a170_level0_row5\" class=\"row_heading level0 row5\" >5</th>\n",
       "      <td id=\"T_2a170_row5_col0\" class=\"data row5 col0\" >Rows with missing values</td>\n",
       "      <td id=\"T_2a170_row5_col1\" class=\"data row5 col1\" >100.0%</td>\n",
       "    </tr>\n",
       "    <tr>\n",
       "      <th id=\"T_2a170_level0_row6\" class=\"row_heading level0 row6\" >6</th>\n",
       "      <td id=\"T_2a170_row6_col0\" class=\"data row6 col0\" >Preprocess</td>\n",
       "      <td id=\"T_2a170_row6_col1\" class=\"data row6 col1\" >True</td>\n",
       "    </tr>\n",
       "    <tr>\n",
       "      <th id=\"T_2a170_level0_row7\" class=\"row_heading level0 row7\" >7</th>\n",
       "      <td id=\"T_2a170_row7_col0\" class=\"data row7 col0\" >Imputation type</td>\n",
       "      <td id=\"T_2a170_row7_col1\" class=\"data row7 col1\" >simple</td>\n",
       "    </tr>\n",
       "    <tr>\n",
       "      <th id=\"T_2a170_level0_row8\" class=\"row_heading level0 row8\" >8</th>\n",
       "      <td id=\"T_2a170_row8_col0\" class=\"data row8 col0\" >Numeric imputation</td>\n",
       "      <td id=\"T_2a170_row8_col1\" class=\"data row8 col1\" >mean</td>\n",
       "    </tr>\n",
       "    <tr>\n",
       "      <th id=\"T_2a170_level0_row9\" class=\"row_heading level0 row9\" >9</th>\n",
       "      <td id=\"T_2a170_row9_col0\" class=\"data row9 col0\" >Categorical imputation</td>\n",
       "      <td id=\"T_2a170_row9_col1\" class=\"data row9 col1\" >mode</td>\n",
       "    </tr>\n",
       "    <tr>\n",
       "      <th id=\"T_2a170_level0_row10\" class=\"row_heading level0 row10\" >10</th>\n",
       "      <td id=\"T_2a170_row10_col0\" class=\"data row10 col0\" >Maximum one-hot encoding</td>\n",
       "      <td id=\"T_2a170_row10_col1\" class=\"data row10 col1\" >-1</td>\n",
       "    </tr>\n",
       "    <tr>\n",
       "      <th id=\"T_2a170_level0_row11\" class=\"row_heading level0 row11\" >11</th>\n",
       "      <td id=\"T_2a170_row11_col0\" class=\"data row11 col0\" >Encoding method</td>\n",
       "      <td id=\"T_2a170_row11_col1\" class=\"data row11 col1\" >None</td>\n",
       "    </tr>\n",
       "    <tr>\n",
       "      <th id=\"T_2a170_level0_row12\" class=\"row_heading level0 row12\" >12</th>\n",
       "      <td id=\"T_2a170_row12_col0\" class=\"data row12 col0\" >Low variance threshold</td>\n",
       "      <td id=\"T_2a170_row12_col1\" class=\"data row12 col1\" >0.100000</td>\n",
       "    </tr>\n",
       "    <tr>\n",
       "      <th id=\"T_2a170_level0_row13\" class=\"row_heading level0 row13\" >13</th>\n",
       "      <td id=\"T_2a170_row13_col0\" class=\"data row13 col0\" >Remove multicollinearity</td>\n",
       "      <td id=\"T_2a170_row13_col1\" class=\"data row13 col1\" >True</td>\n",
       "    </tr>\n",
       "    <tr>\n",
       "      <th id=\"T_2a170_level0_row14\" class=\"row_heading level0 row14\" >14</th>\n",
       "      <td id=\"T_2a170_row14_col0\" class=\"data row14 col0\" >Multicollinearity threshold</td>\n",
       "      <td id=\"T_2a170_row14_col1\" class=\"data row14 col1\" >0.900000</td>\n",
       "    </tr>\n",
       "    <tr>\n",
       "      <th id=\"T_2a170_level0_row15\" class=\"row_heading level0 row15\" >15</th>\n",
       "      <td id=\"T_2a170_row15_col0\" class=\"data row15 col0\" >PCA</td>\n",
       "      <td id=\"T_2a170_row15_col1\" class=\"data row15 col1\" >True</td>\n",
       "    </tr>\n",
       "    <tr>\n",
       "      <th id=\"T_2a170_level0_row16\" class=\"row_heading level0 row16\" >16</th>\n",
       "      <td id=\"T_2a170_row16_col0\" class=\"data row16 col0\" >PCA method</td>\n",
       "      <td id=\"T_2a170_row16_col1\" class=\"data row16 col1\" >linear</td>\n",
       "    </tr>\n",
       "    <tr>\n",
       "      <th id=\"T_2a170_level0_row17\" class=\"row_heading level0 row17\" >17</th>\n",
       "      <td id=\"T_2a170_row17_col0\" class=\"data row17 col0\" >PCA components</td>\n",
       "      <td id=\"T_2a170_row17_col1\" class=\"data row17 col1\" >None</td>\n",
       "    </tr>\n",
       "    <tr>\n",
       "      <th id=\"T_2a170_level0_row18\" class=\"row_heading level0 row18\" >18</th>\n",
       "      <td id=\"T_2a170_row18_col0\" class=\"data row18 col0\" >CPU Jobs</td>\n",
       "      <td id=\"T_2a170_row18_col1\" class=\"data row18 col1\" >-1</td>\n",
       "    </tr>\n",
       "    <tr>\n",
       "      <th id=\"T_2a170_level0_row19\" class=\"row_heading level0 row19\" >19</th>\n",
       "      <td id=\"T_2a170_row19_col0\" class=\"data row19 col0\" >Use GPU</td>\n",
       "      <td id=\"T_2a170_row19_col1\" class=\"data row19 col1\" >False</td>\n",
       "    </tr>\n",
       "    <tr>\n",
       "      <th id=\"T_2a170_level0_row20\" class=\"row_heading level0 row20\" >20</th>\n",
       "      <td id=\"T_2a170_row20_col0\" class=\"data row20 col0\" >Log Experiment</td>\n",
       "      <td id=\"T_2a170_row20_col1\" class=\"data row20 col1\" >False</td>\n",
       "    </tr>\n",
       "    <tr>\n",
       "      <th id=\"T_2a170_level0_row21\" class=\"row_heading level0 row21\" >21</th>\n",
       "      <td id=\"T_2a170_row21_col0\" class=\"data row21 col0\" >Experiment Name</td>\n",
       "      <td id=\"T_2a170_row21_col1\" class=\"data row21 col1\" >cluster-default-name</td>\n",
       "    </tr>\n",
       "    <tr>\n",
       "      <th id=\"T_2a170_level0_row22\" class=\"row_heading level0 row22\" >22</th>\n",
       "      <td id=\"T_2a170_row22_col0\" class=\"data row22 col0\" >USI</td>\n",
       "      <td id=\"T_2a170_row22_col1\" class=\"data row22 col1\" >00cf</td>\n",
       "    </tr>\n",
       "  </tbody>\n",
       "</table>\n"
      ],
      "text/plain": [
       "<pandas.io.formats.style.Styler at 0x23580f9c9d0>"
      ]
     },
     "metadata": {},
     "output_type": "display_data"
    }
   ],
   "source": [
    "exp_name = setup(data = waves, remove_multicollinearity = True,  pca = True, low_variance_threshold = 0.1)"
   ]
  },
  {
   "cell_type": "code",
   "execution_count": 6,
   "id": "15fa9790",
   "metadata": {},
   "outputs": [
    {
     "data": {
      "text/html": [],
      "text/plain": [
       "<IPython.core.display.HTML object>"
      ]
     },
     "metadata": {},
     "output_type": "display_data"
    },
    {
     "data": {
      "text/html": [
       "<style type=\"text/css\">\n",
       "</style>\n",
       "<table id=\"T_96c0d\">\n",
       "  <thead>\n",
       "    <tr>\n",
       "      <th class=\"blank level0\" >&nbsp;</th>\n",
       "      <th id=\"T_96c0d_level0_col0\" class=\"col_heading level0 col0\" >Silhouette</th>\n",
       "      <th id=\"T_96c0d_level0_col1\" class=\"col_heading level0 col1\" >Calinski-Harabasz</th>\n",
       "      <th id=\"T_96c0d_level0_col2\" class=\"col_heading level0 col2\" >Davies-Bouldin</th>\n",
       "      <th id=\"T_96c0d_level0_col3\" class=\"col_heading level0 col3\" >Homogeneity</th>\n",
       "      <th id=\"T_96c0d_level0_col4\" class=\"col_heading level0 col4\" >Rand Index</th>\n",
       "      <th id=\"T_96c0d_level0_col5\" class=\"col_heading level0 col5\" >Completeness</th>\n",
       "    </tr>\n",
       "  </thead>\n",
       "  <tbody>\n",
       "    <tr>\n",
       "      <th id=\"T_96c0d_level0_row0\" class=\"row_heading level0 row0\" >0</th>\n",
       "      <td id=\"T_96c0d_row0_col0\" class=\"data row0 col0\" >0.6891</td>\n",
       "      <td id=\"T_96c0d_row0_col1\" class=\"data row0 col1\" >1198.1152</td>\n",
       "      <td id=\"T_96c0d_row0_col2\" class=\"data row0 col2\" >0.2983</td>\n",
       "      <td id=\"T_96c0d_row0_col3\" class=\"data row0 col3\" >0</td>\n",
       "      <td id=\"T_96c0d_row0_col4\" class=\"data row0 col4\" >0</td>\n",
       "      <td id=\"T_96c0d_row0_col5\" class=\"data row0 col5\" >0</td>\n",
       "    </tr>\n",
       "  </tbody>\n",
       "</table>\n"
      ],
      "text/plain": [
       "<pandas.io.formats.style.Styler at 0x23580fc1eb0>"
      ]
     },
     "metadata": {},
     "output_type": "display_data"
    },
    {
     "data": {
      "application/vnd.jupyter.widget-view+json": {
       "model_id": "",
       "version_major": 2,
       "version_minor": 0
      },
      "text/plain": [
       "Processing:   0%|          | 0/3 [00:00<?, ?it/s]"
      ]
     },
     "metadata": {},
     "output_type": "display_data"
    },
    {
     "data": {
      "application/vnd.jupyter.widget-view+json": {
       "model_id": "98bb7fa7da144b35aed32a447a11c3c6",
       "version_major": 2,
       "version_minor": 0
      },
      "text/plain": [
       "interactive(children=(ToggleButtons(description='Plot Type:', icons=('',), options=(('Pipeline Plot', 'pipelin…"
      ]
     },
     "metadata": {},
     "output_type": "display_data"
    }
   ],
   "source": [
    "kmeans = create_model('kmeans')\n",
    "#plot_model(kmeans, plot = 'cluster')\n",
    "evaluate_model(kmeans)"
   ]
  },
  {
   "cell_type": "code",
   "execution_count": 7,
   "id": "deffea3d",
   "metadata": {},
   "outputs": [
    {
     "data": {
      "text/html": [],
      "text/plain": [
       "<IPython.core.display.HTML object>"
      ]
     },
     "metadata": {},
     "output_type": "display_data"
    },
    {
     "data": {
      "text/html": [
       "<style type=\"text/css\">\n",
       "</style>\n",
       "<table id=\"T_c893d\">\n",
       "  <thead>\n",
       "    <tr>\n",
       "      <th class=\"blank level0\" >&nbsp;</th>\n",
       "      <th id=\"T_c893d_level0_col0\" class=\"col_heading level0 col0\" >Silhouette</th>\n",
       "      <th id=\"T_c893d_level0_col1\" class=\"col_heading level0 col1\" >Calinski-Harabasz</th>\n",
       "      <th id=\"T_c893d_level0_col2\" class=\"col_heading level0 col2\" >Davies-Bouldin</th>\n",
       "      <th id=\"T_c893d_level0_col3\" class=\"col_heading level0 col3\" >Homogeneity</th>\n",
       "      <th id=\"T_c893d_level0_col4\" class=\"col_heading level0 col4\" >Rand Index</th>\n",
       "      <th id=\"T_c893d_level0_col5\" class=\"col_heading level0 col5\" >Completeness</th>\n",
       "    </tr>\n",
       "  </thead>\n",
       "  <tbody>\n",
       "    <tr>\n",
       "      <th id=\"T_c893d_level0_row0\" class=\"row_heading level0 row0\" >0</th>\n",
       "      <td id=\"T_c893d_row0_col0\" class=\"data row0 col0\" >0.6931</td>\n",
       "      <td id=\"T_c893d_row0_col1\" class=\"data row0 col1\" >4177.0369</td>\n",
       "      <td id=\"T_c893d_row0_col2\" class=\"data row0 col2\" >0.2686</td>\n",
       "      <td id=\"T_c893d_row0_col3\" class=\"data row0 col3\" >0</td>\n",
       "      <td id=\"T_c893d_row0_col4\" class=\"data row0 col4\" >0</td>\n",
       "      <td id=\"T_c893d_row0_col5\" class=\"data row0 col5\" >0</td>\n",
       "    </tr>\n",
       "  </tbody>\n",
       "</table>\n"
      ],
      "text/plain": [
       "<pandas.io.formats.style.Styler at 0x235f6afebb0>"
      ]
     },
     "metadata": {},
     "output_type": "display_data"
    },
    {
     "data": {
      "application/vnd.jupyter.widget-view+json": {
       "model_id": "",
       "version_major": 2,
       "version_minor": 0
      },
      "text/plain": [
       "Processing:   0%|          | 0/3 [00:00<?, ?it/s]"
      ]
     },
     "metadata": {},
     "output_type": "display_data"
    },
    {
     "data": {
      "application/vnd.jupyter.widget-view+json": {
       "model_id": "2c1e7349a7564c9582809582e39e7a8d",
       "version_major": 2,
       "version_minor": 0
      },
      "text/plain": [
       "interactive(children=(ToggleButtons(description='Plot Type:', icons=('',), options=(('Pipeline Plot', 'pipelin…"
      ]
     },
     "metadata": {},
     "output_type": "display_data"
    }
   ],
   "source": [
    "ap = create_model('ap')\n",
    "#plot_model(kmeans, plot = 'cluster')\n",
    "evaluate_model(ap)"
   ]
  },
  {
   "cell_type": "code",
   "execution_count": 8,
   "id": "bc0851df",
   "metadata": {},
   "outputs": [
    {
     "data": {
      "text/html": [],
      "text/plain": [
       "<IPython.core.display.HTML object>"
      ]
     },
     "metadata": {},
     "output_type": "display_data"
    },
    {
     "data": {
      "text/html": [
       "<style type=\"text/css\">\n",
       "</style>\n",
       "<table id=\"T_94e18\">\n",
       "  <thead>\n",
       "    <tr>\n",
       "      <th class=\"blank level0\" >&nbsp;</th>\n",
       "      <th id=\"T_94e18_level0_col0\" class=\"col_heading level0 col0\" >Silhouette</th>\n",
       "      <th id=\"T_94e18_level0_col1\" class=\"col_heading level0 col1\" >Calinski-Harabasz</th>\n",
       "      <th id=\"T_94e18_level0_col2\" class=\"col_heading level0 col2\" >Davies-Bouldin</th>\n",
       "      <th id=\"T_94e18_level0_col3\" class=\"col_heading level0 col3\" >Homogeneity</th>\n",
       "      <th id=\"T_94e18_level0_col4\" class=\"col_heading level0 col4\" >Rand Index</th>\n",
       "      <th id=\"T_94e18_level0_col5\" class=\"col_heading level0 col5\" >Completeness</th>\n",
       "    </tr>\n",
       "  </thead>\n",
       "  <tbody>\n",
       "    <tr>\n",
       "      <th id=\"T_94e18_level0_row0\" class=\"row_heading level0 row0\" >0</th>\n",
       "      <td id=\"T_94e18_row0_col0\" class=\"data row0 col0\" >0.1601</td>\n",
       "      <td id=\"T_94e18_row0_col1\" class=\"data row0 col1\" >12.0574</td>\n",
       "      <td id=\"T_94e18_row0_col2\" class=\"data row0 col2\" >10.8139</td>\n",
       "      <td id=\"T_94e18_row0_col3\" class=\"data row0 col3\" >0</td>\n",
       "      <td id=\"T_94e18_row0_col4\" class=\"data row0 col4\" >0</td>\n",
       "      <td id=\"T_94e18_row0_col5\" class=\"data row0 col5\" >0</td>\n",
       "    </tr>\n",
       "  </tbody>\n",
       "</table>\n"
      ],
      "text/plain": [
       "<pandas.io.formats.style.Styler at 0x23580fc1250>"
      ]
     },
     "metadata": {},
     "output_type": "display_data"
    },
    {
     "data": {
      "application/vnd.jupyter.widget-view+json": {
       "model_id": "",
       "version_major": 2,
       "version_minor": 0
      },
      "text/plain": [
       "Processing:   0%|          | 0/3 [00:00<?, ?it/s]"
      ]
     },
     "metadata": {},
     "output_type": "display_data"
    },
    {
     "data": {
      "application/vnd.jupyter.widget-view+json": {
       "model_id": "2362762efb7d441b95c6e055a590f872",
       "version_major": 2,
       "version_minor": 0
      },
      "text/plain": [
       "interactive(children=(ToggleButtons(description='Plot Type:', icons=('',), options=(('Pipeline Plot', 'pipelin…"
      ]
     },
     "metadata": {},
     "output_type": "display_data"
    }
   ],
   "source": [
    "optics = create_model('optics')\n",
    "#plot_model(kmeans, plot = 'cluster')\n",
    "evaluate_model(optics)"
   ]
  },
  {
   "cell_type": "markdown",
   "id": "f5b7820a",
   "metadata": {},
   "source": [
    "# Anomaly Detection"
   ]
  },
  {
   "cell_type": "code",
   "execution_count": 9,
   "id": "bd5d17da",
   "metadata": {},
   "outputs": [
    {
     "data": {
      "text/html": [
       "<style type=\"text/css\">\n",
       "#T_746b7_row6_col1 {\n",
       "  background-color: lightgreen;\n",
       "}\n",
       "</style>\n",
       "<table id=\"T_746b7\">\n",
       "  <thead>\n",
       "    <tr>\n",
       "      <th class=\"blank level0\" >&nbsp;</th>\n",
       "      <th id=\"T_746b7_level0_col0\" class=\"col_heading level0 col0\" >Description</th>\n",
       "      <th id=\"T_746b7_level0_col1\" class=\"col_heading level0 col1\" >Value</th>\n",
       "    </tr>\n",
       "  </thead>\n",
       "  <tbody>\n",
       "    <tr>\n",
       "      <th id=\"T_746b7_level0_row0\" class=\"row_heading level0 row0\" >0</th>\n",
       "      <td id=\"T_746b7_row0_col0\" class=\"data row0 col0\" >Session id</td>\n",
       "      <td id=\"T_746b7_row0_col1\" class=\"data row0 col1\" >123</td>\n",
       "    </tr>\n",
       "    <tr>\n",
       "      <th id=\"T_746b7_level0_row1\" class=\"row_heading level0 row1\" >1</th>\n",
       "      <td id=\"T_746b7_row1_col0\" class=\"data row1 col0\" >Original data shape</td>\n",
       "      <td id=\"T_746b7_row1_col1\" class=\"data row1 col1\" >(93, 39)</td>\n",
       "    </tr>\n",
       "    <tr>\n",
       "      <th id=\"T_746b7_level0_row2\" class=\"row_heading level0 row2\" >2</th>\n",
       "      <td id=\"T_746b7_row2_col0\" class=\"data row2 col0\" >Transformed data shape</td>\n",
       "      <td id=\"T_746b7_row2_col1\" class=\"data row2 col1\" >(93, 128)</td>\n",
       "    </tr>\n",
       "    <tr>\n",
       "      <th id=\"T_746b7_level0_row3\" class=\"row_heading level0 row3\" >3</th>\n",
       "      <td id=\"T_746b7_row3_col0\" class=\"data row3 col0\" >Numeric features</td>\n",
       "      <td id=\"T_746b7_row3_col1\" class=\"data row3 col1\" >37</td>\n",
       "    </tr>\n",
       "    <tr>\n",
       "      <th id=\"T_746b7_level0_row4\" class=\"row_heading level0 row4\" >4</th>\n",
       "      <td id=\"T_746b7_row4_col0\" class=\"data row4 col0\" >Categorical features</td>\n",
       "      <td id=\"T_746b7_row4_col1\" class=\"data row4 col1\" >2</td>\n",
       "    </tr>\n",
       "    <tr>\n",
       "      <th id=\"T_746b7_level0_row5\" class=\"row_heading level0 row5\" >5</th>\n",
       "      <td id=\"T_746b7_row5_col0\" class=\"data row5 col0\" >Rows with missing values</td>\n",
       "      <td id=\"T_746b7_row5_col1\" class=\"data row5 col1\" >100.0%</td>\n",
       "    </tr>\n",
       "    <tr>\n",
       "      <th id=\"T_746b7_level0_row6\" class=\"row_heading level0 row6\" >6</th>\n",
       "      <td id=\"T_746b7_row6_col0\" class=\"data row6 col0\" >Preprocess</td>\n",
       "      <td id=\"T_746b7_row6_col1\" class=\"data row6 col1\" >True</td>\n",
       "    </tr>\n",
       "    <tr>\n",
       "      <th id=\"T_746b7_level0_row7\" class=\"row_heading level0 row7\" >7</th>\n",
       "      <td id=\"T_746b7_row7_col0\" class=\"data row7 col0\" >Imputation type</td>\n",
       "      <td id=\"T_746b7_row7_col1\" class=\"data row7 col1\" >simple</td>\n",
       "    </tr>\n",
       "    <tr>\n",
       "      <th id=\"T_746b7_level0_row8\" class=\"row_heading level0 row8\" >8</th>\n",
       "      <td id=\"T_746b7_row8_col0\" class=\"data row8 col0\" >Numeric imputation</td>\n",
       "      <td id=\"T_746b7_row8_col1\" class=\"data row8 col1\" >mean</td>\n",
       "    </tr>\n",
       "    <tr>\n",
       "      <th id=\"T_746b7_level0_row9\" class=\"row_heading level0 row9\" >9</th>\n",
       "      <td id=\"T_746b7_row9_col0\" class=\"data row9 col0\" >Categorical imputation</td>\n",
       "      <td id=\"T_746b7_row9_col1\" class=\"data row9 col1\" >mode</td>\n",
       "    </tr>\n",
       "    <tr>\n",
       "      <th id=\"T_746b7_level0_row10\" class=\"row_heading level0 row10\" >10</th>\n",
       "      <td id=\"T_746b7_row10_col0\" class=\"data row10 col0\" >Maximum one-hot encoding</td>\n",
       "      <td id=\"T_746b7_row10_col1\" class=\"data row10 col1\" >-1</td>\n",
       "    </tr>\n",
       "    <tr>\n",
       "      <th id=\"T_746b7_level0_row11\" class=\"row_heading level0 row11\" >11</th>\n",
       "      <td id=\"T_746b7_row11_col0\" class=\"data row11 col0\" >Encoding method</td>\n",
       "      <td id=\"T_746b7_row11_col1\" class=\"data row11 col1\" >None</td>\n",
       "    </tr>\n",
       "    <tr>\n",
       "      <th id=\"T_746b7_level0_row12\" class=\"row_heading level0 row12\" >12</th>\n",
       "      <td id=\"T_746b7_row12_col0\" class=\"data row12 col0\" >CPU Jobs</td>\n",
       "      <td id=\"T_746b7_row12_col1\" class=\"data row12 col1\" >-1</td>\n",
       "    </tr>\n",
       "    <tr>\n",
       "      <th id=\"T_746b7_level0_row13\" class=\"row_heading level0 row13\" >13</th>\n",
       "      <td id=\"T_746b7_row13_col0\" class=\"data row13 col0\" >Use GPU</td>\n",
       "      <td id=\"T_746b7_row13_col1\" class=\"data row13 col1\" >False</td>\n",
       "    </tr>\n",
       "    <tr>\n",
       "      <th id=\"T_746b7_level0_row14\" class=\"row_heading level0 row14\" >14</th>\n",
       "      <td id=\"T_746b7_row14_col0\" class=\"data row14 col0\" >Log Experiment</td>\n",
       "      <td id=\"T_746b7_row14_col1\" class=\"data row14 col1\" >False</td>\n",
       "    </tr>\n",
       "    <tr>\n",
       "      <th id=\"T_746b7_level0_row15\" class=\"row_heading level0 row15\" >15</th>\n",
       "      <td id=\"T_746b7_row15_col0\" class=\"data row15 col0\" >Experiment Name</td>\n",
       "      <td id=\"T_746b7_row15_col1\" class=\"data row15 col1\" >anomaly-default-name</td>\n",
       "    </tr>\n",
       "    <tr>\n",
       "      <th id=\"T_746b7_level0_row16\" class=\"row_heading level0 row16\" >16</th>\n",
       "      <td id=\"T_746b7_row16_col0\" class=\"data row16 col0\" >USI</td>\n",
       "      <td id=\"T_746b7_row16_col1\" class=\"data row16 col1\" >7769</td>\n",
       "    </tr>\n",
       "  </tbody>\n",
       "</table>\n"
      ],
      "text/plain": [
       "<pandas.io.formats.style.Styler at 0x23584c91610>"
      ]
     },
     "metadata": {},
     "output_type": "display_data"
    }
   ],
   "source": [
    "from pycaret.anomaly import *\n",
    "s = setup(waves, session_id = 123)"
   ]
  },
  {
   "cell_type": "code",
   "execution_count": 10,
   "id": "1f35f2b1",
   "metadata": {},
   "outputs": [
    {
     "data": {
      "text/html": [],
      "text/plain": [
       "<IPython.core.display.HTML object>"
      ]
     },
     "metadata": {},
     "output_type": "display_data"
    },
    {
     "data": {
      "text/html": [],
      "text/plain": [
       "<IPython.core.display.HTML object>"
      ]
     },
     "metadata": {},
     "output_type": "display_data"
    },
    {
     "data": {
      "application/vnd.jupyter.widget-view+json": {
       "model_id": "",
       "version_major": 2,
       "version_minor": 0
      },
      "text/plain": [
       "Processing:   0%|          | 0/3 [00:00<?, ?it/s]"
      ]
     },
     "metadata": {},
     "output_type": "display_data"
    },
    {
     "data": {
      "application/vnd.jupyter.widget-view+json": {
       "model_id": "f2cded72b655497eb7c52681da63c540",
       "version_major": 2,
       "version_minor": 0
      },
      "text/plain": [
       "interactive(children=(ToggleButtons(description='Plot Type:', icons=('',), options=(('Pipeline Plot', 'pipelin…"
      ]
     },
     "metadata": {},
     "output_type": "display_data"
    }
   ],
   "source": [
    "iforest = create_model('iforest')\n",
    "evaluate_model(iforest)"
   ]
  },
  {
   "cell_type": "code",
   "execution_count": 11,
   "id": "35d86896",
   "metadata": {},
   "outputs": [
    {
     "data": {
      "text/html": [
       "<div>\n",
       "<style scoped>\n",
       "    .dataframe tbody tr th:only-of-type {\n",
       "        vertical-align: middle;\n",
       "    }\n",
       "\n",
       "    .dataframe tbody tr th {\n",
       "        vertical-align: top;\n",
       "    }\n",
       "\n",
       "    .dataframe thead th {\n",
       "        text-align: right;\n",
       "    }\n",
       "</style>\n",
       "<table border=\"1\" class=\"dataframe\">\n",
       "  <thead>\n",
       "    <tr style=\"text-align: right;\">\n",
       "      <th></th>\n",
       "      <th>commonName</th>\n",
       "      <th>catalog.shortName</th>\n",
       "      <th>GPS</th>\n",
       "      <th>mass_1_source</th>\n",
       "      <th>mass_1_source_lower</th>\n",
       "      <th>mass_1_source_upper</th>\n",
       "      <th>mass_2_source</th>\n",
       "      <th>mass_2_source_lower</th>\n",
       "      <th>mass_2_source_upper</th>\n",
       "      <th>network_matched_filter_snr</th>\n",
       "      <th>...</th>\n",
       "      <th>far_lower</th>\n",
       "      <th>far_upper</th>\n",
       "      <th>p_astro</th>\n",
       "      <th>p_astro_lower</th>\n",
       "      <th>p_astro_upper</th>\n",
       "      <th>final_mass_source</th>\n",
       "      <th>final_mass_source_lower</th>\n",
       "      <th>final_mass_source_upper</th>\n",
       "      <th>Anomaly</th>\n",
       "      <th>Anomaly_Score</th>\n",
       "    </tr>\n",
       "  </thead>\n",
       "  <tbody>\n",
       "    <tr>\n",
       "      <th>0</th>\n",
       "      <td>GW150914</td>\n",
       "      <td>GWTC-1-confident</td>\n",
       "      <td>1126259462</td>\n",
       "      <td>35.599998</td>\n",
       "      <td>-3.1</td>\n",
       "      <td>4.7</td>\n",
       "      <td>30.6</td>\n",
       "      <td>-4.4</td>\n",
       "      <td>3.0</td>\n",
       "      <td>26.0</td>\n",
       "      <td>...</td>\n",
       "      <td>NaN</td>\n",
       "      <td>NaN</td>\n",
       "      <td>1.0</td>\n",
       "      <td>NaN</td>\n",
       "      <td>NaN</td>\n",
       "      <td>63.099998</td>\n",
       "      <td>-3.0</td>\n",
       "      <td>3.4</td>\n",
       "      <td>0</td>\n",
       "      <td>-0.049337</td>\n",
       "    </tr>\n",
       "    <tr>\n",
       "      <th>1</th>\n",
       "      <td>GW151012</td>\n",
       "      <td>GWTC-1-confident</td>\n",
       "      <td>1128678900</td>\n",
       "      <td>23.200001</td>\n",
       "      <td>-5.5</td>\n",
       "      <td>14.9</td>\n",
       "      <td>13.6</td>\n",
       "      <td>-4.8</td>\n",
       "      <td>4.1</td>\n",
       "      <td>10.0</td>\n",
       "      <td>...</td>\n",
       "      <td>NaN</td>\n",
       "      <td>NaN</td>\n",
       "      <td>1.0</td>\n",
       "      <td>NaN</td>\n",
       "      <td>NaN</td>\n",
       "      <td>35.599998</td>\n",
       "      <td>-3.8</td>\n",
       "      <td>10.8</td>\n",
       "      <td>0</td>\n",
       "      <td>-0.048956</td>\n",
       "    </tr>\n",
       "    <tr>\n",
       "      <th>2</th>\n",
       "      <td>GW151226</td>\n",
       "      <td>GWTC-1-confident</td>\n",
       "      <td>1135136351</td>\n",
       "      <td>13.700000</td>\n",
       "      <td>-3.2</td>\n",
       "      <td>8.8</td>\n",
       "      <td>7.7</td>\n",
       "      <td>-2.5</td>\n",
       "      <td>2.2</td>\n",
       "      <td>13.1</td>\n",
       "      <td>...</td>\n",
       "      <td>NaN</td>\n",
       "      <td>NaN</td>\n",
       "      <td>1.0</td>\n",
       "      <td>NaN</td>\n",
       "      <td>NaN</td>\n",
       "      <td>20.500000</td>\n",
       "      <td>-1.5</td>\n",
       "      <td>6.4</td>\n",
       "      <td>0</td>\n",
       "      <td>-0.055188</td>\n",
       "    </tr>\n",
       "    <tr>\n",
       "      <th>3</th>\n",
       "      <td>GW170104</td>\n",
       "      <td>GWTC-1-confident</td>\n",
       "      <td>1167559937</td>\n",
       "      <td>30.799999</td>\n",
       "      <td>-5.6</td>\n",
       "      <td>7.3</td>\n",
       "      <td>20.0</td>\n",
       "      <td>-4.6</td>\n",
       "      <td>4.9</td>\n",
       "      <td>13.8</td>\n",
       "      <td>...</td>\n",
       "      <td>NaN</td>\n",
       "      <td>NaN</td>\n",
       "      <td>1.0</td>\n",
       "      <td>NaN</td>\n",
       "      <td>NaN</td>\n",
       "      <td>48.900002</td>\n",
       "      <td>-4.0</td>\n",
       "      <td>5.1</td>\n",
       "      <td>0</td>\n",
       "      <td>-0.061301</td>\n",
       "    </tr>\n",
       "    <tr>\n",
       "      <th>4</th>\n",
       "      <td>GW170608</td>\n",
       "      <td>GWTC-1-confident</td>\n",
       "      <td>1180922495</td>\n",
       "      <td>11.000000</td>\n",
       "      <td>-1.7</td>\n",
       "      <td>5.5</td>\n",
       "      <td>7.6</td>\n",
       "      <td>-2.2</td>\n",
       "      <td>1.4</td>\n",
       "      <td>15.4</td>\n",
       "      <td>...</td>\n",
       "      <td>NaN</td>\n",
       "      <td>NaN</td>\n",
       "      <td>1.0</td>\n",
       "      <td>NaN</td>\n",
       "      <td>NaN</td>\n",
       "      <td>17.799999</td>\n",
       "      <td>-0.7</td>\n",
       "      <td>3.4</td>\n",
       "      <td>0</td>\n",
       "      <td>-0.051934</td>\n",
       "    </tr>\n",
       "  </tbody>\n",
       "</table>\n",
       "<p>5 rows × 41 columns</p>\n",
       "</div>"
      ],
      "text/plain": [
       "  commonName catalog.shortName         GPS  mass_1_source  \\\n",
       "0   GW150914  GWTC-1-confident  1126259462      35.599998   \n",
       "1   GW151012  GWTC-1-confident  1128678900      23.200001   \n",
       "2   GW151226  GWTC-1-confident  1135136351      13.700000   \n",
       "3   GW170104  GWTC-1-confident  1167559937      30.799999   \n",
       "4   GW170608  GWTC-1-confident  1180922495      11.000000   \n",
       "\n",
       "   mass_1_source_lower  mass_1_source_upper  mass_2_source  \\\n",
       "0                 -3.1                  4.7           30.6   \n",
       "1                 -5.5                 14.9           13.6   \n",
       "2                 -3.2                  8.8            7.7   \n",
       "3                 -5.6                  7.3           20.0   \n",
       "4                 -1.7                  5.5            7.6   \n",
       "\n",
       "   mass_2_source_lower  mass_2_source_upper  network_matched_filter_snr  ...  \\\n",
       "0                 -4.4                  3.0                        26.0  ...   \n",
       "1                 -4.8                  4.1                        10.0  ...   \n",
       "2                 -2.5                  2.2                        13.1  ...   \n",
       "3                 -4.6                  4.9                        13.8  ...   \n",
       "4                 -2.2                  1.4                        15.4  ...   \n",
       "\n",
       "   far_lower  far_upper  p_astro  p_astro_lower  p_astro_upper  \\\n",
       "0        NaN        NaN      1.0            NaN            NaN   \n",
       "1        NaN        NaN      1.0            NaN            NaN   \n",
       "2        NaN        NaN      1.0            NaN            NaN   \n",
       "3        NaN        NaN      1.0            NaN            NaN   \n",
       "4        NaN        NaN      1.0            NaN            NaN   \n",
       "\n",
       "   final_mass_source  final_mass_source_lower  final_mass_source_upper  \\\n",
       "0          63.099998                     -3.0                      3.4   \n",
       "1          35.599998                     -3.8                     10.8   \n",
       "2          20.500000                     -1.5                      6.4   \n",
       "3          48.900002                     -4.0                      5.1   \n",
       "4          17.799999                     -0.7                      3.4   \n",
       "\n",
       "   Anomaly  Anomaly_Score  \n",
       "0        0      -0.049337  \n",
       "1        0      -0.048956  \n",
       "2        0      -0.055188  \n",
       "3        0      -0.061301  \n",
       "4        0      -0.051934  \n",
       "\n",
       "[5 rows x 41 columns]"
      ]
     },
     "execution_count": 11,
     "metadata": {},
     "output_type": "execute_result"
    }
   ],
   "source": [
    "result = assign_model(iforest)\n",
    "result.head()"
   ]
  },
  {
   "cell_type": "code",
   "execution_count": null,
   "id": "1dd3c5f3",
   "metadata": {},
   "outputs": [],
   "source": []
  }
 ],
 "metadata": {
  "kernelspec": {
   "display_name": "Python 3 (ipykernel)",
   "language": "python",
   "name": "python3"
  },
  "language_info": {
   "codemirror_mode": {
    "name": "ipython",
    "version": 3
   },
   "file_extension": ".py",
   "mimetype": "text/x-python",
   "name": "python",
   "nbconvert_exporter": "python",
   "pygments_lexer": "ipython3",
   "version": "3.9.13"
  }
 },
 "nbformat": 4,
 "nbformat_minor": 5
}
